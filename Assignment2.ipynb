{
 "cells": [
  {
   "cell_type": "markdown",
   "id": "307e6166-2c6f-470a-922e-be72f9d00702",
   "metadata": {},
   "source": [
    "# Assignment 2"
   ]
  },
  {
   "cell_type": "code",
   "execution_count": 2,
   "id": "2af88325-2dc7-4cb9-851a-84fcc3135ab5",
   "metadata": {},
   "outputs": [
    {
     "name": "stdin",
     "output_type": "stream",
     "text": [
      "Enter your Percentage =  93\n"
     ]
    },
    {
     "name": "stdout",
     "output_type": "stream",
     "text": [
      "A\n"
     ]
    }
   ],
   "source": [
    "# Question 1\n",
    "per = float(input('Enter your Percentage = '))\n",
    "if per>90:\n",
    "    print('A')\n",
    "elif per>80 and per<=90:\n",
    "    print('B')\n",
    "elif per>=60 and per<=80:\n",
    "    print('C')\n",
    "else:\n",
    "    print('D')"
   ]
  },
  {
   "cell_type": "code",
   "execution_count": 4,
   "id": "dc4ea96e-6141-42ca-aa8a-82928048928a",
   "metadata": {},
   "outputs": [
    {
     "name": "stdin",
     "output_type": "stream",
     "text": [
      "Price =  30000\n"
     ]
    },
    {
     "name": "stdout",
     "output_type": "stream",
     "text": [
      "Tax price =  1500.0\n"
     ]
    }
   ],
   "source": [
    "# Question 2\n",
    "price = int(input('Price = '))\n",
    "tax = None\n",
    "if price<=50000:\n",
    "    tax= price*0.05\n",
    "elif price>50000 and price<=100000:\n",
    "    tax = price*0.10\n",
    "else:\n",
    "    tax = price*0.15\n",
    "print('Tax price = ',tax)"
   ]
  },
  {
   "cell_type": "code",
   "execution_count": 5,
   "id": "13438ca8-26b3-48a1-8b40-5c1012af3057",
   "metadata": {},
   "outputs": [
    {
     "name": "stdin",
     "output_type": "stream",
     "text": [
      "Enter the city name =  DelHI\n"
     ]
    },
    {
     "name": "stdout",
     "output_type": "stream",
     "text": [
      "Red Fort\n"
     ]
    }
   ],
   "source": [
    "# question 3\n",
    "city = input('Enter the city name = ').lower()\n",
    "if city == 'delhi':\n",
    "    print('Red Fort')\n",
    "elif city == 'agra':\n",
    "    print('Taj Mahal')\n",
    "elif city == 'jaipur':\n",
    "    print('Jal Mahal')\n",
    "else:\n",
    "    pass\n"
   ]
  },
  {
   "cell_type": "code",
   "execution_count": 14,
   "id": "1812b76d-0b23-4fb0-b309-4ec313724754",
   "metadata": {},
   "outputs": [
    {
     "name": "stdin",
     "output_type": "stream",
     "text": [
      "enter a number =  98\n"
     ]
    },
    {
     "name": "stdout",
     "output_type": "stream",
     "text": [
      "No of times =  3\n"
     ]
    }
   ],
   "source": [
    "# Question 4\n",
    "num = int(input('enter a number = '))\n",
    "ctr=0\n",
    "while num>10:\n",
    "    num = num/3;\n",
    "    ctr+=1\n",
    "print('No of times = ',ctr)"
   ]
  },
  {
   "cell_type": "code",
   "execution_count": 15,
   "id": "9114f895-4562-4b84-a069-0d8d359542b1",
   "metadata": {},
   "outputs": [],
   "source": [
    "#Question 5\n",
    "\n",
    "# while loop is basically used for creating infinite loops.\n",
    "# for loop has restrictions for infinite loop.\n",
    "# that's why while loop is used.\n",
    "\n",
    "#while True:\n",
    "#    print('hello')\n",
    "    \n",
    "# This above example leads to an infinite loop."
   ]
  },
  {
   "cell_type": "code",
   "execution_count": 20,
   "id": "8e0ec588-6d8d-4efb-a31e-2ead6368e8e5",
   "metadata": {},
   "outputs": [
    {
     "name": "stdout",
     "output_type": "stream",
     "text": [
      "1st\n",
      "\n",
      "* \n",
      "* * \n",
      "* * * \n",
      "* * * * \n",
      "* * * * * \n",
      "\n",
      "2nd\n",
      "\n",
      "* * * * * * \n",
      "* * * * * \n",
      "* * * * \n",
      "* * * \n",
      "* * \n",
      "\n",
      "3rd\n",
      "\n",
      "     * \n",
      "    * * \n",
      "   * * * \n",
      "  * * * * \n",
      " * * * * * \n"
     ]
    }
   ],
   "source": [
    "# Question 6\n",
    "n=5\n",
    "print('1st\\n')\n",
    "i=0\n",
    "while i<n:\n",
    "    j=0\n",
    "    while j<=i:\n",
    "        print('*',end=' ')\n",
    "        j+=1\n",
    "    i+=1\n",
    "    print()\n",
    "    \n",
    "\n",
    "print('\\n2nd\\n')\n",
    "i=0\n",
    "while i<n:\n",
    "    j=n\n",
    "    while j>=i:\n",
    "        print('*',end=' ')\n",
    "        j-=1\n",
    "    i+=1\n",
    "    print()\n",
    "    \n",
    "print('\\n3rd\\n')\n",
    "i=0\n",
    "while i<n:\n",
    "    sp=n-1\n",
    "    while sp>=i:\n",
    "        print(end=' ')\n",
    "        sp-=1\n",
    "    j=0\n",
    "    while j<=i:\n",
    "        print('*',end=' ')\n",
    "        j+=1\n",
    "    i+=1\n",
    "    print()"
   ]
  },
  {
   "cell_type": "code",
   "execution_count": 21,
   "id": "fd2b0c9c-c6b6-4aef-b2f6-f73c73438b11",
   "metadata": {},
   "outputs": [
    {
     "name": "stdout",
     "output_type": "stream",
     "text": [
      "10\n",
      "9\n",
      "8\n",
      "7\n",
      "6\n",
      "5\n",
      "4\n",
      "3\n",
      "2\n",
      "1\n"
     ]
    }
   ],
   "source": [
    "# Question 7\n",
    "num=10\n",
    "while num>0:\n",
    "    print(num)\n",
    "    num-=1"
   ]
  },
  {
   "cell_type": "code",
   "execution_count": 22,
   "id": "c50d0473-8c86-4b92-adb2-302f0a2b3203",
   "metadata": {},
   "outputs": [
    {
     "name": "stdout",
     "output_type": "stream",
     "text": [
      "10\n",
      "9\n",
      "8\n",
      "7\n",
      "6\n",
      "5\n",
      "4\n",
      "3\n",
      "2\n",
      "1\n"
     ]
    }
   ],
   "source": [
    "# Question 8\n",
    "num=10\n",
    "while num>0:\n",
    "    print(num)\n",
    "    num-=1"
   ]
  }
 ],
 "metadata": {
  "kernelspec": {
   "display_name": "Python 3 (ipykernel)",
   "language": "python",
   "name": "python3"
  },
  "language_info": {
   "codemirror_mode": {
    "name": "ipython",
    "version": 3
   },
   "file_extension": ".py",
   "mimetype": "text/x-python",
   "name": "python",
   "nbconvert_exporter": "python",
   "pygments_lexer": "ipython3",
   "version": "3.10.8"
  }
 },
 "nbformat": 4,
 "nbformat_minor": 5
}
