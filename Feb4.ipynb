{
 "cells": [
  {
   "cell_type": "markdown",
   "id": "642b5004-b3b9-4036-8565-f2a202914d83",
   "metadata": {},
   "source": [
    "# Question 1"
   ]
  },
  {
   "cell_type": "code",
   "execution_count": 4,
   "id": "5a2b5fd1-204f-4718-b019-8d04df3d8a67",
   "metadata": {},
   "outputs": [
    {
     "name": "stdout",
     "output_type": "stream",
     "text": [
      "Sorted =  [('Virat Kohli', 24936), ('Jack Kallis', 25534), ('Ricky Ponting', 27483), ('Sachin Tendulkar', 34357)]\n"
     ]
    }
   ],
   "source": [
    "a = [('Sachin Tendulkar', 34357), ('Ricky Ponting', 27483), \n",
    "     ('Jack Kallis', 25534), ('Virat Kohli', 24936)]\n",
    "a.sort(key= lambda x:x[1])\n",
    "print('Sorted = ',a)"
   ]
  },
  {
   "cell_type": "markdown",
   "id": "ada0e8eb-fb8b-41fb-9676-8825f47ce901",
   "metadata": {},
   "source": [
    "# Question 2"
   ]
  },
  {
   "cell_type": "code",
   "execution_count": 8,
   "id": "2a5b76de-71d9-4c52-9461-5a97cbd88dad",
   "metadata": {},
   "outputs": [
    {
     "name": "stdout",
     "output_type": "stream",
     "text": [
      "Squared array =  [1, 4, 9, 16, 25, 36, 49, 64, 81, 100]\n"
     ]
    }
   ],
   "source": [
    "arr = [1, 2, 3, 4, 5, 6, 7, 8, 9, 10]\n",
    "square = list(map(lambda x:x**2,arr))\n",
    "print(\"Squared array = \",square)"
   ]
  },
  {
   "cell_type": "markdown",
   "id": "5d29c8a7-915f-43b3-a8ca-32603b8073a5",
   "metadata": {},
   "source": [
    "# Question 3"
   ]
  },
  {
   "cell_type": "code",
   "execution_count": 9,
   "id": "13cef370-7902-4628-9362-9b8f786e1a46",
   "metadata": {},
   "outputs": [
    {
     "name": "stdout",
     "output_type": "stream",
     "text": [
      "String tuple =  ('1', '2', '3', '4', '5', '6', '7', '8', '9', '10')\n"
     ]
    }
   ],
   "source": [
    "arr = [1, 2, 3, 4, 5, 6, 7, 8, 9, 10]\n",
    "new = tuple(map(lambda x:str(x),arr))\n",
    "print('String tuple = ',new)"
   ]
  },
  {
   "cell_type": "markdown",
   "id": "97cf6611-8c23-4d26-88b3-86c58af70a44",
   "metadata": {},
   "source": [
    "# Question 4"
   ]
  },
  {
   "cell_type": "code",
   "execution_count": 17,
   "id": "ff92cce4-a92b-4430-9ec1-894ffe5ce859",
   "metadata": {},
   "outputs": [
    {
     "name": "stdout",
     "output_type": "stream",
     "text": [
      "Product =  15511210043330985984000000\n"
     ]
    }
   ],
   "source": [
    "from functools import reduce\n",
    "a = list(range(1,26))\n",
    "print(\"Product = \",reduce(lambda x,y:x*y,a))\n"
   ]
  },
  {
   "cell_type": "markdown",
   "id": "2200a570-8715-43ae-a0ba-ed6803696eab",
   "metadata": {},
   "source": [
    "# Question 5"
   ]
  },
  {
   "cell_type": "code",
   "execution_count": 25,
   "id": "356be260-0066-493e-a280-f4f8611afc99",
   "metadata": {},
   "outputs": [
    {
     "name": "stdout",
     "output_type": "stream",
     "text": [
      "USing filter\n",
      "[6, 60, 90, 120]\n"
     ]
    }
   ],
   "source": [
    "abc = [2, 3, 6, 9, 27, 60, 90, 120, 55, 46]\n",
    "print('Uing filter')\n",
    "print(list(filter(lambda x:x%2==0 and x%3==0,abc)))"
   ]
  },
  {
   "cell_type": "markdown",
   "id": "7f8c6401-f2d9-4f1e-92fd-122c2c271929",
   "metadata": {},
   "source": [
    "# Question 6"
   ]
  },
  {
   "cell_type": "code",
   "execution_count": 24,
   "id": "599d7617-1212-41a9-bf5e-dc78883e7f7c",
   "metadata": {},
   "outputs": [
    {
     "name": "stdout",
     "output_type": "stream",
     "text": [
      "Pallindrome list =  ['php', 'aba', 'radar', 'level']\n"
     ]
    }
   ],
   "source": [
    "arr = ['python', 'php', 'aba', 'radar', 'level']\n",
    "pa = list(filter(lambda x:x==x[::-1],arr))\n",
    "print('Pallindrome list = ',pa)"
   ]
  }
 ],
 "metadata": {
  "kernelspec": {
   "display_name": "Python 3 (ipykernel)",
   "language": "python",
   "name": "python3"
  },
  "language_info": {
   "codemirror_mode": {
    "name": "ipython",
    "version": 3
   },
   "file_extension": ".py",
   "mimetype": "text/x-python",
   "name": "python",
   "nbconvert_exporter": "python",
   "pygments_lexer": "ipython3",
   "version": "3.10.8"
  }
 },
 "nbformat": 4,
 "nbformat_minor": 5
}
