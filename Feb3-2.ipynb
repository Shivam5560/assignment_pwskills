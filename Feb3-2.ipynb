{
 "cells": [
  {
   "cell_type": "markdown",
   "id": "4cd06224-c09d-4728-b54e-f7bdf5f35a3c",
   "metadata": {},
   "source": [
    "# Question 1"
   ]
  },
  {
   "cell_type": "code",
   "execution_count": 4,
   "id": "2d8e6947-ab77-4884-b49a-84132337b971",
   "metadata": {},
   "outputs": [
    {
     "name": "stdout",
     "output_type": "stream",
     "text": [
      "[1, 3, 5, 7, 9, 11, 13, 15, 17, 19, 21, 23]\n"
     ]
    }
   ],
   "source": [
    "def odd():\n",
    "    arr = []\n",
    "    for x in range(1,25):\n",
    "        if x%2!=0:\n",
    "            arr.append(x)\n",
    "    return arr\n",
    "\n",
    "result = odd()\n",
    "print(result)"
   ]
  },
  {
   "cell_type": "markdown",
   "id": "bf605b9f-a42f-4146-b00f-a7c994b50ddc",
   "metadata": {},
   "source": [
    "# Question 2"
   ]
  },
  {
   "cell_type": "code",
   "execution_count": 5,
   "id": "d567e590-dbe5-4212-8dae-fbb97554b89e",
   "metadata": {},
   "outputs": [
    {
     "name": "stdout",
     "output_type": "stream",
     "text": [
      "(1, 2, 3)\n",
      "(1, 2)\n",
      "('abc', 'def')\n"
     ]
    }
   ],
   "source": [
    "# *args is used to take different no of arguments\n",
    "# for a same function where no of arguments are given by user\n",
    "\n",
    "\n",
    "def summ(*arr):\n",
    "    print(arr)\n",
    "\n",
    "summ(1,2,3)\n",
    "summ(1,2)\n",
    "summ('abc','def')"
   ]
  },
  {
   "cell_type": "code",
   "execution_count": 6,
   "id": "31985e20-2578-4429-b859-33772dae68fd",
   "metadata": {},
   "outputs": [
    {
     "name": "stdout",
     "output_type": "stream",
     "text": [
      "Name = Shivam\n",
      "roll = 6\n",
      "\n",
      "a = 5\n",
      "b = 6\n",
      "\n"
     ]
    }
   ],
   "source": [
    "# **kwargs is used to take key value pairs\n",
    "# keyworded input from user\n",
    "\n",
    "def abc(**arr):\n",
    "    for x ,y in arr.items():\n",
    "        print(x,'=',y)\n",
    "    print()\n",
    "    \n",
    "    \n",
    "abc(Name='Shivam',roll=6)\n",
    "abc(a=5,b=6)"
   ]
  },
  {
   "cell_type": "markdown",
   "id": "ca4a6ad5-9293-4675-a134-6431ee77bcde",
   "metadata": {},
   "source": [
    "# Question 3"
   ]
  },
  {
   "cell_type": "code",
   "execution_count": 14,
   "id": "3920fb2f-5554-47ae-856a-38da79ae72bc",
   "metadata": {},
   "outputs": [
    {
     "name": "stdout",
     "output_type": "stream",
     "text": [
      "2 4 6 8 10 "
     ]
    }
   ],
   "source": [
    "'''Iterator in Python is an object that is used to\n",
    "iterate over iterable objects like lists, tuples, dicts, and sets. \n",
    "The iterator object is initialized using the iter() method.\n",
    "It uses the next() method for iteration.'''\n",
    "\n",
    "arr = [2, 4, 6, 8, 10, 12, 14, 16, 18, 20]\n",
    "it = iter(arr)\n",
    "for x in range(5):\n",
    "    print(next(it),end=' ')"
   ]
  },
  {
   "cell_type": "markdown",
   "id": "27371845-e5e5-4277-abcb-2355c8c3fb2f",
   "metadata": {},
   "source": [
    "# Question 4"
   ]
  },
  {
   "cell_type": "code",
   "execution_count": 16,
   "id": "99e4c55b-50ca-4114-a43d-ed7d2c148328",
   "metadata": {},
   "outputs": [
    {
     "name": "stdout",
     "output_type": "stream",
     "text": [
      "2 4 6 8 10 "
     ]
    }
   ],
   "source": [
    "# Generator function help us to generate an generator object\n",
    "# which can be traversed by for loop\n",
    "# The yield keyword in Python controls the flow of a generator function.\n",
    "def gen():\n",
    "    for x in range(1,11):\n",
    "        if x%2==0:\n",
    "            yield x\n",
    "\n",
    "result = gen()\n",
    "for x in result:\n",
    "    print(x,end=' ')"
   ]
  },
  {
   "cell_type": "markdown",
   "id": "bd64ce09-98c8-49fb-a627-cea653f7ca60",
   "metadata": {},
   "source": [
    "# Question 5"
   ]
  },
  {
   "cell_type": "code",
   "execution_count": 8,
   "id": "68d5a9de-23f8-4a8f-a1cc-2c617c499040",
   "metadata": {},
   "outputs": [
    {
     "name": "stdout",
     "output_type": "stream",
     "text": [
      "2 3 5 7 11 13 17 19 23 29 31 37 41 43 47 53 59 61 67 71 "
     ]
    }
   ],
   "source": [
    "import math\n",
    "def prime(n):\n",
    "    if n>1:\n",
    "        ctr = True\n",
    "        for x in range(2,int(math.sqrt(n))+1):\n",
    "            if n%x==0:\n",
    "                ctr = False\n",
    "                break\n",
    "        return ctr\n",
    "    else:\n",
    "        return False\n",
    "\n",
    "def gen():\n",
    "    for x in range(0,1000):\n",
    "        if prime(x):\n",
    "            yield x\n",
    "    \n",
    "\n",
    "def n():\n",
    "    ctr=1\n",
    "    for value in gen():\n",
    "        if ctr>20:\n",
    "            break\n",
    "        print(value,end=' ')\n",
    "        ctr+=1\n",
    "        \n",
    "n()"
   ]
  },
  {
   "cell_type": "markdown",
   "id": "07bd4ca6-cd37-4836-9913-b4bd327cd97d",
   "metadata": {},
   "source": [
    "# Question 6"
   ]
  },
  {
   "cell_type": "code",
   "execution_count": 9,
   "id": "fd286d41-7f77-49b1-84e1-d40c595c3fab",
   "metadata": {},
   "outputs": [
    {
     "name": "stdout",
     "output_type": "stream",
     "text": [
      "0 1 1 2 3 5 8 13 21 34 \n"
     ]
    }
   ],
   "source": [
    "start = 0\n",
    "after = 1\n",
    "ctr = 2\n",
    "print(start,after,end=' ')\n",
    "while ctr<10:\n",
    "    ctr+=1\n",
    "    print(start+after,end=' ')\n",
    "    start,after=after,start+after\n",
    "print()"
   ]
  },
  {
   "cell_type": "markdown",
   "id": "ba26c6bf-dcd1-4981-b571-6c7bffaeed9d",
   "metadata": {},
   "source": [
    "# Question 7"
   ]
  },
  {
   "cell_type": "code",
   "execution_count": 10,
   "id": "6cb8f68a-df7e-4a8f-92ba-9e84d3e3327d",
   "metadata": {},
   "outputs": [
    {
     "name": "stdin",
     "output_type": "stream",
     "text": [
      "String =  pwskills\n"
     ]
    },
    {
     "name": "stdout",
     "output_type": "stream",
     "text": [
      "['p', 'w', 's', 'k', 'i', 'l', 'l', 's']\n"
     ]
    }
   ],
   "source": [
    "s = input('String = ')\n",
    "print(list(s))"
   ]
  },
  {
   "cell_type": "markdown",
   "id": "db4d765d-bae8-4592-a146-5773bb377a24",
   "metadata": {},
   "source": [
    "# Question 8"
   ]
  },
  {
   "cell_type": "code",
   "execution_count": 11,
   "id": "cd8f8fd0-7fe5-4e36-9698-a0f6bc22298b",
   "metadata": {},
   "outputs": [
    {
     "name": "stdin",
     "output_type": "stream",
     "text": [
      "Number =  1221\n"
     ]
    },
    {
     "name": "stdout",
     "output_type": "stream",
     "text": [
      "Pallindrome Number \n"
     ]
    }
   ],
   "source": [
    "n = int(input('Number = '))\n",
    "temp = n \n",
    "rev = 0\n",
    "while temp>0:\n",
    "    rev = rev*10 + (temp%10)\n",
    "    temp = temp//10\n",
    "if n==rev:\n",
    "    print('Pallindrome Number ')\n",
    "else:\n",
    "    print('Not a Pallindrome Number ')"
   ]
  },
  {
   "cell_type": "markdown",
   "id": "60c2d652-a26e-4ab6-a36f-1962af3b8f57",
   "metadata": {},
   "source": [
    "# Question 9"
   ]
  },
  {
   "cell_type": "code",
   "execution_count": 12,
   "id": "d8a1faf0-3968-4914-85d7-fb90dfa91d84",
   "metadata": {},
   "outputs": [
    {
     "name": "stdout",
     "output_type": "stream",
     "text": [
      "[1, 3, 5, 7, 9, 11, 13, 15, 17, 19, 21, 23, 25, 27, 29, 31, 33, 35, 37, 39, 41, 43, 45, 47, 49, 51, 53, 55, 57, 59, 61, 63, 65, 67, 69, 71, 73, 75, 77, 79, 81, 83, 85, 87, 89, 91, 93, 95, 97, 99]\n"
     ]
    }
   ],
   "source": [
    "arr = list(range(1,101))\n",
    "def fun(n):\n",
    "    if n%2!=0:\n",
    "        return True\n",
    "    else:\n",
    "        return False\n",
    "    \n",
    "new = list(filter(fun,arr))\n",
    "print(new)"
   ]
  }
 ],
 "metadata": {
  "kernelspec": {
   "display_name": "Python 3 (ipykernel)",
   "language": "python",
   "name": "python3"
  },
  "language_info": {
   "codemirror_mode": {
    "name": "ipython",
    "version": 3
   },
   "file_extension": ".py",
   "mimetype": "text/x-python",
   "name": "python",
   "nbconvert_exporter": "python",
   "pygments_lexer": "ipython3",
   "version": "3.10.8"
  }
 },
 "nbformat": 4,
 "nbformat_minor": 5
}
